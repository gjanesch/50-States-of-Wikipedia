{
 "cells": [
  {
   "cell_type": "code",
   "execution_count": 1,
   "metadata": {
    "collapsed": true
   },
   "outputs": [],
   "source": [
    "from bs4 import BeautifulSoup\n",
    "import requests\n",
    "import pandas as pd\n",
    "import re\n",
    "import feather\n",
    "from tqdm import tqdm\n",
    "import os"
   ]
  },
  {
   "cell_type": "code",
   "execution_count": 2,
   "metadata": {
    "collapsed": false
   },
   "outputs": [],
   "source": [
    "def read_html(url):\n",
    "    return BeautifulSoup(requests.get(url).text, \"lxml\")\n",
    "\n",
    "def get_language_links(url):\n",
    "    return read_html(url).find(\"div\", attrs = {'id':'p-lang'}).find_all(\"li\")\n",
    "\n",
    "def get_link_elements(state_name, language_link):\n",
    "    link_title = re.search(\"^(.*) – (.*)$\", language_link.a[\"title\"])\n",
    "    language_name = link_title.group(2)\n",
    "    language_state_name = link_title.group(1)\n",
    "    language_code = language_link.a[\"lang\"]\n",
    "    featured = \"badge-featuredarticle\" in language_link[\"class\"]\n",
    "    \n",
    "    return (state_name, language_name, language_code, language_state_name, featured)\n",
    "\n",
    "def current_page_size(page_url):\n",
    "    try:\n",
    "        page_html = read_html(page_url)\n",
    "    except:\n",
    "        return \"Failed\"\n",
    "    history_size = page_html.find(\"ul\", attrs = {'id':'pagehistory'}).find(\"span\", attrs = {'class':'history-size'})\n",
    "    return(history_size.text)"
   ]
  },
  {
   "cell_type": "code",
   "execution_count": 3,
   "metadata": {
    "collapsed": false
   },
   "outputs": [],
   "source": [
    "def get_lang_df(state_name):\n",
    "    print(\"Now reading Wikipedia page for \" + state_name)\n",
    "    wiki_page = read_html(\"https://en.wikipedia.org/wiki/\" + state_name)\n",
    "    \n",
    "    print(\"Processing page HTML...\")\n",
    "    language_links = wiki_page.find(\"div\", attrs = {'id':'p-lang'})\n",
    "    language_links = language_links.find_all(\"li\")\n",
    "    language_info = [get_link_elements(state_name, ll) for ll in language_links]\n",
    "    \n",
    "    language_df = pd.DataFrame(language_info)\n",
    "    language_df.columns = [\"StateName\", \"Language\", \"LanguageCode\", \"LanguageStateName\", \"Featured\"]\n",
    "    \n",
    "    language_df = language_df.assign(EditPage = \"https://\" + language_df.LanguageCode +\n",
    "                                     \".wikipedia.org/w/index.php?title=\" + language_df.LanguageStateName +\n",
    "                                     \"&action=history\")\n",
    "    \n",
    "    language_df[\"PageSize\"] = \"Failed\"\n",
    "    page_failed = language_df.PageSize == \"Failed\"\n",
    "    \n",
    "    print(\"Getting foreign language page sizes...\")\n",
    "    while sum(page_failed) > 0:\n",
    "        print(str(sum(page_failed)) + \" values unaccounted for...\")\n",
    "        language_df.PageSize = language_df.progress_apply(lambda row: current_page_size(row.EditPage) if row.PageSize == \"Failed\" else row.PageSize, axis = 1)\n",
    "        page_failed = language_df.PageSize == \"Failed\"\n",
    "    print(\"Done with foreign pages\")\n",
    "    \n",
    "    language_df.PageSize = language_df.PageSize.apply(lambda ps: re.sub(\"[^0-9]\",\"\", ps))\n",
    "    language_df.PageSize = language_df.PageSize.apply(lambda ps: int(ps) if ps != '' else None)\n",
    "    \n",
    "    feather.write_dataframe(language_df, \"./state_dfs/\" + state_name + \".feather\")\n",
    "    \n",
    "    return(language_df)"
   ]
  },
  {
   "cell_type": "code",
   "execution_count": 4,
   "metadata": {
    "collapsed": false,
    "scrolled": false
   },
   "outputs": [
    {
     "name": "stdout",
     "output_type": "stream",
     "text": [
      "Now reading Wikipedia page for West_Virginia\n"
     ]
    },
    {
     "name": "stderr",
     "output_type": "stream",
     "text": [
      "\r",
      "Progress Bar:   0%|          | 0/165 [00:00<?, ?it/s]"
     ]
    },
    {
     "name": "stdout",
     "output_type": "stream",
     "text": [
      "Processing page HTML...\n",
      "Getting foreign language page sizes...\n",
      "165 values unaccounted for...\n"
     ]
    },
    {
     "name": "stderr",
     "output_type": "stream",
     "text": [
      "Progress Bar: 100%|██████████| 165/165 [03:12<00:00,  1.01it/s]\n",
      "Progress Bar:   0%|          | 0/165 [00:00<?, ?it/s]"
     ]
    },
    {
     "name": "stdout",
     "output_type": "stream",
     "text": [
      "58 values unaccounted for...\n"
     ]
    },
    {
     "name": "stderr",
     "output_type": "stream",
     "text": [
      "Progress Bar: 100%|██████████| 165/165 [00:57<00:00,  2.85it/s]\n"
     ]
    },
    {
     "name": "stdout",
     "output_type": "stream",
     "text": [
      "Done with foreign pages\n",
      "Now reading Wikipedia page for Wisconsin\n"
     ]
    },
    {
     "name": "stderr",
     "output_type": "stream",
     "text": [
      "\r",
      "Progress Bar:   0%|          | 0/169 [00:00<?, ?it/s]"
     ]
    },
    {
     "name": "stdout",
     "output_type": "stream",
     "text": [
      "Processing page HTML...\n",
      "Getting foreign language page sizes...\n",
      "169 values unaccounted for...\n"
     ]
    },
    {
     "name": "stderr",
     "output_type": "stream",
     "text": [
      "Progress Bar: 100%|██████████| 169/169 [02:28<00:00,  1.07s/it]\n",
      "Progress Bar:   0%|          | 0/169 [00:00<?, ?it/s]"
     ]
    },
    {
     "name": "stdout",
     "output_type": "stream",
     "text": [
      "33 values unaccounted for...\n"
     ]
    },
    {
     "name": "stderr",
     "output_type": "stream",
     "text": [
      "Progress Bar: 100%|██████████| 169/169 [00:42<00:00,  4.02it/s]\n",
      "Progress Bar: 100%|██████████| 169/169 [00:00<00:00, 18322.37it/s]\n",
      "Progress Bar: 100%|██████████| 169/169 [00:00<00:00, 17697.04it/s]\n",
      "Progress Bar: 100%|██████████| 169/169 [00:00<00:00, 17597.31it/s]\n",
      "Progress Bar: 100%|██████████| 169/169 [00:00<00:00, 18242.67it/s]\n",
      "Progress Bar: 100%|██████████| 169/169 [00:00<00:00, 17519.89it/s]\n",
      "Progress Bar: 100%|██████████| 169/169 [00:00<00:00, 14704.95it/s]\n",
      "Progress Bar: 100%|██████████| 169/169 [00:00<00:00, 15273.05it/s]\n",
      "Progress Bar: 100%|██████████| 169/169 [00:00<00:00, 15351.11it/s]\n",
      "Progress Bar: 100%|██████████| 169/169 [00:00<00:00, 16979.36it/s]\n",
      "Progress Bar: 100%|██████████| 169/169 [00:00<00:00, 18780.63it/s]\n",
      "Progress Bar:   0%|          | 0/169 [00:00<?, ?it/s]"
     ]
    },
    {
     "name": "stdout",
     "output_type": "stream",
     "text": [
      "2 values unaccounted for...\n",
      "2 values unaccounted for...\n",
      "2 values unaccounted for...\n",
      "2 values unaccounted for...\n",
      "2 values unaccounted for...\n",
      "2 values unaccounted for...\n",
      "2 values unaccounted for...\n",
      "2 values unaccounted for...\n",
      "2 values unaccounted for...\n",
      "2 values unaccounted for...\n",
      "2 values unaccounted for...\n"
     ]
    },
    {
     "name": "stderr",
     "output_type": "stream",
     "text": [
      "Progress Bar: 100%|██████████| 169/169 [00:08<00:00, 20.10it/s]\n"
     ]
    },
    {
     "name": "stdout",
     "output_type": "stream",
     "text": [
      "Done with foreign pages\n",
      "Now reading Wikipedia page for Wyoming\n"
     ]
    },
    {
     "name": "stderr",
     "output_type": "stream",
     "text": [
      "\r",
      "Progress Bar:   0%|          | 0/165 [00:00<?, ?it/s]"
     ]
    },
    {
     "name": "stdout",
     "output_type": "stream",
     "text": [
      "Processing page HTML...\n",
      "Getting foreign language page sizes...\n",
      "165 values unaccounted for...\n"
     ]
    },
    {
     "name": "stderr",
     "output_type": "stream",
     "text": [
      "Progress Bar: 100%|██████████| 165/165 [02:56<00:00,  1.01it/s]"
     ]
    },
    {
     "name": "stdout",
     "output_type": "stream",
     "text": [
      "Done with foreign pages\n"
     ]
    },
    {
     "name": "stderr",
     "output_type": "stream",
     "text": [
      "\n"
     ]
    }
   ],
   "source": [
    "with open(\"state_list.txt\", \"r\") as f:\n",
    "    STATE_NAMES = f.readlines()\n",
    "STATE_NAMES = [sn.strip() for sn in STATE_NAMES]\n",
    "\n",
    "tqdm.pandas(desc=\"Progress Bar\")\n",
    "\n",
    "state_dfs = [get_lang_df(sn) for sn in STATE_NAMES if not os.path.isfile(\"./state_dfs/\" + sn + \".feather\")]"
   ]
  }
 ],
 "metadata": {
  "kernelspec": {
   "display_name": "Python 3",
   "language": "python",
   "name": "python3"
  },
  "language_info": {
   "codemirror_mode": {
    "name": "ipython",
    "version": 3
   },
   "file_extension": ".py",
   "mimetype": "text/x-python",
   "name": "python",
   "nbconvert_exporter": "python",
   "pygments_lexer": "ipython3",
   "version": "3.6.1"
  }
 },
 "nbformat": 4,
 "nbformat_minor": 2
}
